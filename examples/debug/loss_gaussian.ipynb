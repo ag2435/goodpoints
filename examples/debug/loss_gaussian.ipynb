{
 "cells": [
  {
   "cell_type": "code",
   "execution_count": 1,
   "metadata": {},
   "outputs": [],
   "source": [
    "%load_ext cython"
   ]
  },
  {
   "cell_type": "code",
   "execution_count": 3,
   "metadata": {},
   "outputs": [
    {
     "name": "stdout",
     "output_type": "stream",
     "text": [
      "Content of stderr:\n",
      "/Users/ag2435/.cache/ipython/cython/_cython_magic_bb9b4fcc6ed2bf4384e5c81935a7122bf81fe370.c:21976:26: warning: code will never be executed [-Wunreachable-code]\n",
      "                module = PyImport_ImportModuleLevelObject(\n",
      "                         ^~~~~~~~~~~~~~~~~~~~~~~~~~~~~~~~\n",
      "1 warning generated.\n",
      "ld: warning: duplicate -rpath '/Users/ag2435/anaconda3/envs/goodpoints/lib' ignoredresult 5.0\n"
     ]
    }
   ],
   "source": [
    "%%cython\n",
    "\n",
    "from libc.math cimport sqrt, log, exp, cos\n",
    "import numpy as np\n",
    "\n",
    "cdef double loss_gaussian_kernel_two_points(const double[:] X1,\n",
    "                                       const double[:] X2,\n",
    "                                       const double[:] k_params):\n",
    "    \"\"\"\n",
    "    Base Gaussian kernel:\n",
    "        k(X1, X2) = exp(-0.5 * ||X1-X2||_2^2/lam_sqd[j]) \n",
    "    Squared-loss Gaussian kernel:\n",
    "        k_sq(X1, X2) = k(X1[:-product], X2[:-product])^2 \n",
    "            + k(X1[:-product], X2[:-product]) * <X1[-product:], X2[-product:]>\n",
    "    between two points X1 and X2\n",
    "    \n",
    "    Args:\n",
    "      X1: array of size d\n",
    "      X2: array of size d\n",
    "      k_params: array of (sig_sqd, product), where\n",
    "        sig_sqd: kernel bandwidth squared\n",
    "        product: number of dimensions to use for the product kernel \n",
    "            (counting backwards from the last dimension)\n",
    "    \"\"\"\n",
    "    \n",
    "    cdef double sig_sqd = k_params[0]\n",
    "    cdef long product = <long>(k_params[1]) #1 if use product kernel, 0 otherwise\n",
    "    cdef long d = X1.shape[0]\n",
    "    \n",
    "    cdef long j\n",
    "    cdef double arg1, arg2, result\n",
    "    \n",
    "    # Compute the squared Euclidean distance between X1 and X2\n",
    "    arg1 = 0\n",
    "    for j in range(d-product):\n",
    "        arg1 += (X1[j]-X2[j])**2\n",
    "    \n",
    "    # Compute the base squared Gaussian kernel\n",
    "    result = exp(-0.5 * arg1 / sig_sqd)\n",
    "\n",
    "    if product:\n",
    "        # compute linear kernel\n",
    "        arg2 = 0\n",
    "        for j in range(d-product, d):\n",
    "            arg2 += X1[j]*X2[j]\n",
    "        result = result**2 + result * arg2\n",
    "\n",
    "    return(result)\n",
    "\n",
    "X1 = np.array([0,2], dtype=float)\n",
    "X2 = np.array([0,2], dtype=float)\n",
    "k_params = np.array([1.0, 1.0], dtype=float)\n",
    "\n",
    "print('result', loss_gaussian_kernel_two_points(X1, X2, k_params))"
   ]
  },
  {
   "cell_type": "code",
   "execution_count": 5,
   "metadata": {},
   "outputs": [
    {
     "name": "stdout",
     "output_type": "stream",
     "text": [
      "Content of stderr:\n",
      "/Users/ag2435/.cache/ipython/cython/_cython_magic_853fcc8910ffd6eea13213159112ba1a07d57348.c:21829:26: warning: code will never be executed [-Wunreachable-code]\n",
      "                module = PyImport_ImportModuleLevelObject(\n",
      "                         ^~~~~~~~~~~~~~~~~~~~~~~~~~~~~~~~\n",
      "1 warning generated.\n",
      "ld: warning: duplicate -rpath '/Users/ag2435/anaconda3/envs/goodpoints/lib' ignoredresult 5.0\n"
     ]
    }
   ],
   "source": [
    "%%cython\n",
    "\n",
    "import numpy as np\n",
    "\n",
    "cdef double loss_gaussian_kernel_one_point(const double[:] X1,\n",
    "                                      const double[:] k_params):\n",
    "    \"\"\"\n",
    "    Base Gaussian kernel:\n",
    "        k(X1, X2) = exp(-0.5 * ||X1-X2||_2^2/lam_sqd[j]) \n",
    "    Squared-loss Gaussian kernel:\n",
    "        k_sq(X1, X2) = k(X1[:-product], X2[:-product])^2 \n",
    "            + k(X1[:-product], X2[:-product]) * <X1[-product:], X2[-product:]>\n",
    "    between X1 and itself\n",
    "    \n",
    "    Args:\n",
    "      X1: 1D array representing a data point\n",
    "      k_params: array of (sig_sqd, product), where\n",
    "        sig_sqd: kernel bandwidth squared\n",
    "        product: number of dimensions to use for the product kernel \n",
    "            (counting backwards from the last dimension)\n",
    "    \"\"\"\n",
    "    cdef long product = <long>(k_params[1]) #1 if use product kernel, 0 otherwise\n",
    "    cdef long d = X1.shape[0]\n",
    "\n",
    "    cdef double arg, result \n",
    "    \n",
    "    result = 1\n",
    "\n",
    "    if product:\n",
    "        # Compute the linear kernel\n",
    "        arg = 0\n",
    "        for j in range(d-product, d):\n",
    "            arg += X1[j]**2\n",
    "        result = result**2 + result * arg\n",
    "\n",
    "    return(result)\n",
    "\n",
    "X1 = np.array([0,2], dtype=float)\n",
    "k_params = np.array([1.0, 1.0], dtype=float)\n",
    "print('result', loss_gaussian_kernel_one_point(X1, k_params))"
   ]
  },
  {
   "cell_type": "markdown",
   "metadata": {},
   "source": [
    "Goodpoints implementation"
   ]
  },
  {
   "cell_type": "code",
   "execution_count": 6,
   "metadata": {},
   "outputs": [],
   "source": [
    "from goodpoints.compress import compress_kt\n",
    "import numpy as np"
   ]
  },
  {
   "cell_type": "code",
   "execution_count": 9,
   "metadata": {},
   "outputs": [],
   "source": [
    "X = np.ones((10, 2), dtype=float)\n",
    "kernel_type = b\"loss_gaussian\"\n",
    "k_params = np.array([1.0, 1.0], dtype=float)"
   ]
  },
  {
   "cell_type": "code",
   "execution_count": 15,
   "metadata": {},
   "outputs": [
    {
     "data": {
      "text/plain": [
       "array([3, 9])"
      ]
     },
     "execution_count": 15,
     "metadata": {},
     "output_type": "execute_result"
    }
   ],
   "source": [
    "compress_kt(X, kernel_type, k_params)"
   ]
  },
  {
   "cell_type": "code",
   "execution_count": null,
   "metadata": {},
   "outputs": [],
   "source": []
  }
 ],
 "metadata": {
  "kernelspec": {
   "display_name": "goodpoints",
   "language": "python",
   "name": "python3"
  },
  "language_info": {
   "codemirror_mode": {
    "name": "ipython",
    "version": 3
   },
   "file_extension": ".py",
   "mimetype": "text/x-python",
   "name": "python",
   "nbconvert_exporter": "python",
   "pygments_lexer": "ipython3",
   "version": "3.10.12"
  }
 },
 "nbformat": 4,
 "nbformat_minor": 2
}
